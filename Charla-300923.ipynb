{
 "cells": [
  {
   "cell_type": "markdown",
   "id": "2f6e49a4-97d4-453d-90ac-d81931e5ab8e",
   "metadata": {
    "editable": true,
    "jp-MarkdownHeadingCollapsed": true,
    "slideshow": {
     "slide_type": "slide"
    },
    "tags": []
   },
   "source": [
    "# Intro a apps web con Python\n",
    "\n",
    "### Ing. Matias Varela\n",
    "\n",
    "<img src=\"images/header.jpeg\" width=\"960\" height=\"740\" />"
   ]
  },
  {
   "cell_type": "markdown",
   "id": "c569a13c-2b5e-4290-8346-0e1e36b7125d",
   "metadata": {
    "editable": true,
    "slideshow": {
     "slide_type": "slide"
    },
    "tags": []
   },
   "source": [
    "# Un poco sobre mi\n",
    "\n",
    "- Ingeniero en informática - 2013 - Universidad de Mendoza.\n",
    "- Más de 10 años utilizando Python como lenguaje principal.\n",
    "- Profesor Universitario - UTN San Rafael.\n",
    "- Miembro Comisión Directiva - Asociación Civil Python Argentina"
   ]
  },
  {
   "cell_type": "markdown",
   "id": "e9b13905-a730-456d-b6b9-f58c7a6ed9f3",
   "metadata": {
    "editable": true,
    "slideshow": {
     "slide_type": "slide"
    },
    "tags": []
   },
   "source": [
    "- Algunas empresas donde trabajé:\n",
    "  - Kilimo: agro tecnólogica que brinda recomendación de riego.\n",
    "  - Mercadolibre: el e-commerce más grande de Latam.\n",
    "  - EpicIO: empresa internacional dedicada a brindar servicios de IoT, Computer Vision, conectividad."
   ]
  },
  {
   "cell_type": "markdown",
   "id": "e5650a99-0da4-47f1-9271-d43326b28ad2",
   "metadata": {
    "editable": true,
    "slideshow": {
     "slide_type": "subslide"
    },
    "tags": []
   },
   "source": [
    "<img margin=\"0 auto\" src=\"images/empresas.png\"/>\n",
    "\n",
    "## En todas trabajé/trabajo con Python!"
   ]
  },
  {
   "cell_type": "markdown",
   "id": "503512ce-1fba-4a33-badf-7bad2bd25d8d",
   "metadata": {
    "editable": true,
    "slideshow": {
     "slide_type": "slide"
    },
    "tags": []
   },
   "source": [
    "# Agenda\n",
    "\n",
    "- Arquitectura cliente-servidor\n",
    "- Evolución de la web\n",
    "  - Primeras páginas\n",
    "  - Páginas dinámicas\n",
    "  - Aplicaciones web\n",
    "- API\n",
    "- Probemos FastAPI\n",
    "- Demo!"
   ]
  },
  {
   "cell_type": "markdown",
   "id": "02ec011d-8aaa-4b53-a6f8-ea0a27f81b59",
   "metadata": {
    "editable": true,
    "slideshow": {
     "slide_type": "slide"
    },
    "tags": []
   },
   "source": [
    "# Arquitectura cliente-servidor\n",
    "\n",
    "- Es un modelo de diseño de software\n",
    "- Las tareas se reparten:\n",
    "  - proveedores de recursos o servicios --> servidores\n",
    "  - demandantes --> clientes\n",
    "- Ampliamente utilizado por muchísimos servicios y protocolos de internet.\n",
    "- La comunicación se da a través de redes de información (comúnmente a través de internet).\n",
    "- Dicho de otra forma, casi todo internet funciona bajo este diseño de software."
   ]
  },
  {
   "cell_type": "markdown",
   "id": "ebfd00b2-5727-4dc9-8b57-a3e95f1fbe0a",
   "metadata": {
    "editable": true,
    "slideshow": {
     "slide_type": "slide"
    },
    "tags": []
   },
   "source": [
    "## Ventajas\n",
    "\n",
    "- No necesitamos software específico en el cliente, solo un navegador (Chrome, Firefox, Edge, Safari)\n",
    "- Tampoco importa mucho el sistema operativo del cliente\n",
    "- Permite compartir información con muchos clientes y usuarios al mismo tiempo.\n",
    "- La distribución y actualización de software es mucho más fácil (solo require hacerlo sobre el servidor)\n"
   ]
  },
  {
   "cell_type": "markdown",
   "id": "e3239623-d08f-4301-842c-d434bac3a123",
   "metadata": {
    "editable": true,
    "slideshow": {
     "slide_type": "slide"
    },
    "tags": []
   },
   "source": [
    "## Desventajas\n",
    "- Se requiere una conexión constante entre cliente y servidor. Si esta falla, puede que no sea posible utilizar el software.\n",
    "- Como la información viaja entre ambas partes, la seguridad es un tema importante y, muchas veces, dificil de manejar.\n",
    "- Los servidores pueden saturarse si muchos clientes se conectan al mismo tiempo.\n",
    "- El software es más complejo, y normalmente require más de un lenguaje de programación o tecnología para construirlo."
   ]
  },
  {
   "cell_type": "markdown",
   "id": "35876b6b-e870-43ed-b312-89d897722fe2",
   "metadata": {
    "editable": true,
    "slideshow": {
     "slide_type": "slide"
    },
    "tags": []
   },
   "source": [
    "# Evolución de las páginas web"
   ]
  },
  {
   "cell_type": "markdown",
   "id": "bd78d2f0-26cc-41ce-bb07-f55f54f47251",
   "metadata": {
    "editable": true,
    "jp-MarkdownHeadingCollapsed": true,
    "slideshow": {
     "slide_type": "subslide"
    },
    "tags": []
   },
   "source": [
    "## Primeras Páginas\n",
    "\n",
    "- Aparecieron en 1990 y solo soportaban texto (se escribian mediante HTML exclusivamente).\n",
    "- Luego incorporaron la posibilidad de incluir imágenes e íconos, y otros recursos.\n",
    "- **Son estáticas, porque el cliente no puede interactuar con ellas**."
   ]
  },
  {
   "cell_type": "markdown",
   "id": "d7a6e336-6a12-45ea-8ea9-a2acee9e560c",
   "metadata": {
    "editable": true,
    "slideshow": {
     "slide_type": "subslide"
    },
    "tags": []
   },
   "source": [
    "## Páginas dinámicas\n",
    "\n",
    "- Mejora en la capacidad de los clientes (Browsers)\n",
    "- Comenzaron a soportar:\n",
    "  - animaciones Flash\n",
    "  - archivos de estilo CSS\n",
    "  - interprete de JavaScript\n",
    "-  **páginas web más interactivas, creativas, con mejor experiencia de usuario**."
   ]
  },
  {
   "cell_type": "markdown",
   "id": "88c3c604-55d4-45a1-b56f-caca04c11293",
   "metadata": {
    "editable": true,
    "slideshow": {
     "slide_type": "subslide"
    },
    "tags": []
   },
   "source": [
    "## Aplicaciones web\n",
    "\n",
    "- Se adaptaron a los teléfonos inteligentes.\n",
    "- A diferentes conexiones de datos.\n",
    "- Se mejoró la experiencia de usuario al imitar a aplicaciones de escritorio."
   ]
  },
  {
   "cell_type": "markdown",
   "id": "47429e32-c3b9-4e5a-acbe-35a83f455fed",
   "metadata": {
    "editable": true,
    "slideshow": {
     "slide_type": "slide"
    },
    "tags": []
   },
   "source": [
    "# API (Interfaz de aplicación programable)"
   ]
  },
  {
   "cell_type": "markdown",
   "id": "558aeebf-b38e-4c11-9ee7-ab27737d9bfc",
   "metadata": {
    "editable": true,
    "slideshow": {
     "slide_type": "subslide"
    },
    "tags": []
   },
   "source": [
    "Es la interfaz que permite el intercambio de información entre dos componentes de software independientes."
   ]
  },
  {
   "cell_type": "markdown",
   "id": "50f8a96b-6dea-46c0-841b-15e35bae416a",
   "metadata": {
    "editable": true,
    "slideshow": {
     "slide_type": "subslide"
    },
    "tags": []
   },
   "source": [
    "Es un conjunto de definiciones y protocolos para desarrollar e integrar el software de las aplicaciones."
   ]
  },
  {
   "cell_type": "markdown",
   "id": "023f1692-ff48-4202-b63c-3aec9a9d372e",
   "metadata": {
    "editable": true,
    "slideshow": {
     "slide_type": "slide"
    },
    "tags": []
   },
   "source": [
    "![FastAPI logo](images/fastapi.png)\n",
    "- Framework web construido con Python 3.7+ https://fastapi.tiangolo.com/\n",
    "- Alta performance, facil de aprender, rápido de escribir, listo para producción (según su autor)\n",
    "  "
   ]
  },
  {
   "cell_type": "code",
   "execution_count": null,
   "id": "8f43b1f2-e023-4204-9fbe-a1c48493e195",
   "metadata": {
    "editable": true,
    "slideshow": {
     "slide_type": "fragment"
    },
    "tags": []
   },
   "outputs": [],
   "source": [
    "# instalamos fasapi simplemente,\n",
    "pip install fastapi"
   ]
  },
  {
   "cell_type": "markdown",
   "id": "d597703c-8981-410a-89a7-d44485e20313",
   "metadata": {
    "editable": true,
    "slideshow": {
     "slide_type": "slide"
    },
    "tags": []
   },
   "source": [
    "# Demo\n",
    "\n",
    "![gif](images/giphy.gif)"
   ]
  },
  {
   "cell_type": "markdown",
   "id": "a4e1cd65-0128-4a68-a2ee-fd7fc140286c",
   "metadata": {
    "editable": true,
    "slideshow": {
     "slide_type": "slide"
    },
    "tags": []
   },
   "source": [
    "### Ejemplo: una página estática"
   ]
  },
  {
   "cell_type": "markdown",
   "id": "b5a6c8af-fc9b-4338-9a0e-77137ec4ea72",
   "metadata": {
    "editable": true,
    "slideshow": {
     "slide_type": "slide"
    },
    "tags": []
   },
   "source": [
    "<img src=\"images/code_1.png\" alt=\"code 1\" width=\"840\" />"
   ]
  },
  {
   "cell_type": "markdown",
   "id": "688ca274-9c74-421f-9779-afa5196d45bb",
   "metadata": {
    "editable": true,
    "slideshow": {
     "slide_type": "slide"
    },
    "tags": []
   },
   "source": [
    "## Ejemplo: página dinámica clásica"
   ]
  },
  {
   "cell_type": "markdown",
   "id": "350681ad-156b-47fa-b976-6c280adc36d5",
   "metadata": {
    "editable": true,
    "slideshow": {
     "slide_type": "subslide"
    },
    "tags": []
   },
   "source": [
    "<img src=\"images/code_2.png\" alt=\"code 2\" width=\"1260\" />"
   ]
  },
  {
   "cell_type": "markdown",
   "id": "512e7831-55dc-4e99-86a2-694b01ac3bd9",
   "metadata": {
    "editable": true,
    "slideshow": {
     "slide_type": "subslide"
    },
    "tags": []
   },
   "source": [
    "<img src=\"images/code_3.png\" alt=\"code 3\" width=\"960\" />"
   ]
  },
  {
   "cell_type": "markdown",
   "id": "d9f034a0-cf0f-4d84-89f7-0ca23b483c65",
   "metadata": {
    "editable": true,
    "slideshow": {
     "slide_type": "subslide"
    },
    "tags": []
   },
   "source": [
    "![Esquema Web](images/esquema_web_1.png)"
   ]
  },
  {
   "cell_type": "markdown",
   "id": "57d947b6-abe0-484f-a7e7-08f84751aeb3",
   "metadata": {
    "editable": true,
    "slideshow": {
     "slide_type": "subslide"
    },
    "tags": []
   },
   "source": [
    "![Esquema Web](images/esquema_web_2.png)"
   ]
  },
  {
   "cell_type": "markdown",
   "id": "dda0c7c6-e83e-46f3-b00b-fc79c729a044",
   "metadata": {
    "editable": true,
    "jp-MarkdownHeadingCollapsed": true,
    "slideshow": {
     "slide_type": "slide"
    },
    "tags": []
   },
   "source": [
    "## Ejemplo: usando templates\n",
    "\n",
    "Veamoslo en el código"
   ]
  },
  {
   "cell_type": "markdown",
   "id": "5e12347e-30d0-4d21-bfcb-64a67f22d3e1",
   "metadata": {
    "editable": true,
    "slideshow": {
     "slide_type": "slide"
    },
    "tags": []
   },
   "source": [
    "## Aplicaciones web\n",
    "\n",
    "- Más responsabilidad y poder de computo necesario en el cliente.\n",
    "- Mucho mejor experiencia de usuario\n",
    "- Mucho más potentes"
   ]
  },
  {
   "cell_type": "markdown",
   "id": "bf7a08da-0753-418b-901a-5c0ed5ad8527",
   "metadata": {
    "editable": true,
    "slideshow": {
     "slide_type": "subslide"
    },
    "tags": []
   },
   "source": [
    "### Como funciona?\n",
    "\n",
    "![Esquema web moderno](images/esquema_web_3.png)"
   ]
  },
  {
   "cell_type": "markdown",
   "id": "6ec2e3b5-e3e5-4357-b53a-db70cff44b1c",
   "metadata": {
    "editable": true,
    "slideshow": {
     "slide_type": "subslide"
    },
    "tags": []
   },
   "source": [
    "![Esquema web moderno](images/esquema_web_4.png)"
   ]
  },
  {
   "cell_type": "markdown",
   "id": "1cd63646-ac79-44f5-894f-35ab3100d069",
   "metadata": {
    "editable": true,
    "slideshow": {
     "slide_type": "slide"
    },
    "tags": []
   },
   "source": [
    "# ¿Preguntas?"
   ]
  },
  {
   "cell_type": "markdown",
   "id": "a42e4d4f-38a4-4bb7-9740-487beda2301c",
   "metadata": {
    "editable": true,
    "slideshow": {
     "slide_type": "subslide"
    },
    "tags": []
   },
   "source": [
    "# ¡Muchas gracias!\n",
    "\n",
    "#### Matias Varela\n",
    "- Telegram: @m4tuu\n",
    "- X: matuvarela\n",
    "- Blog: https://matuu.dev"
   ]
  }
 ],
 "metadata": {
  "kernelspec": {
   "display_name": "Python 3 (ipykernel)",
   "language": "python",
   "name": "python3"
  },
  "language_info": {
   "codemirror_mode": {
    "name": "ipython",
    "version": 3
   },
   "file_extension": ".py",
   "mimetype": "text/x-python",
   "name": "python",
   "nbconvert_exporter": "python",
   "pygments_lexer": "ipython3",
   "version": "3.11.5"
  }
 },
 "nbformat": 4,
 "nbformat_minor": 5
}
